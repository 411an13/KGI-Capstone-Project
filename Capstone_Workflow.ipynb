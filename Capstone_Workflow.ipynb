{
  "nbformat": 4,
  "nbformat_minor": 0,
  "metadata": {
    "colab": {
      "provenance": [],
      "toc_visible": true
    },
    "kernelspec": {
      "name": "python3",
      "display_name": "Python 3"
    },
    "language_info": {
      "name": "python"
    }
  },
  "cells": [
    {
      "cell_type": "markdown",
      "source": [
        "This code is used for the capstone project workflow:\n",
        "1. Download CNVs of interest from dbVar\n",
        "2. **Extract UIDs (unique identifiers)**\n",
        "3. Use eSummary to extract CNV summaries\n",
        "4. **Extract genomic coordinates from summaries**\n",
        "5. Perform manual CNV search in Mastermind\n",
        "6. Perform custom data analysis and create visualizations\n",
        "\n",
        "This file includes the code for the steps in bold. The other steps are (currently) manual"
      ],
      "metadata": {
        "id": "A_n1_M7vJwG_"
      }
    },
    {
      "cell_type": "markdown",
      "source": [
        "#Step 1: Doanload CNVs of Interest from dbVar"
      ],
      "metadata": {
        "id": "LXAkwwkiOs5F"
      }
    },
    {
      "cell_type": "markdown",
      "source": [
        "Begin by selecting a subset of the CNVs in dbVar to analyze by using the advanced search feature in dbVar."
      ],
      "metadata": {
        "id": "JCRgnts6LxU3"
      }
    },
    {
      "cell_type": "markdown",
      "source": [
        "**Example advanced search (for pathogenic gain CNVs):** \n",
        "\n",
        "((((((\"copy number gain\"[Variant Type] AND \"pathogenic\"[Clinical Interpretation]) NOT \"copy number loss\"[Variant Type]) NOT \"uncertain significance\"[Clinical Interpretation]) NOT \"benign\"[Clinical Interpretation]) NOT \"likely benign\"[Clinical Interpretation]) NOT \"likely pathogenic\"[Clinical Interpretation]) NOT \"conflicting interpretations of pathogenicity\"[Clinical Interpretation] AND (\"VARIANT\"[OBJ_TYPE] AND \"copy number variation\"[Variant Type] AND \"Pathogenic\"[clinical_interpretation] AND 1[has_clinical])"
      ],
      "metadata": {
        "id": "-1h-aZBLL7Iq"
      }
    },
    {
      "cell_type": "markdown",
      "source": [
        "# Step 2: Extract UIDs"
      ],
      "metadata": {
        "id": "VhhgmGhBKit8"
      }
    },
    {
      "cell_type": "markdown",
      "source": [
        "Run the code below (replace file_name with your file path/name)"
      ],
      "metadata": {
        "id": "j4CeLviMO6kO"
      }
    },
    {
      "cell_type": "code",
      "source": [
        "def UID_extractor_pathogenic(path):\n",
        "# Input: A file path for a file downloaded from NCBI's dbVar database\n",
        "# Output: A list of 200 randomly selected UIDs for all the CNVs in the original file\n",
        "\n",
        "  # Read in the file\n",
        "  data_file = open(path,'r')\n",
        "  data = data_file.readlines()\n",
        "  data_file.close()\n",
        "\n",
        "  # Extract UIDs\n",
        "  UIDs = []   # Start by making a new list for all the UIDs\n",
        "  for i in range(len(data)):\n",
        "    if data[i][0:33] == 'Clinical significance: Pathogenic':\n",
        "      UIDs.append(data[i+2].strip())\n",
        "  # Get rid of 'ID: ' in each element of the list\n",
        "  UIDs_clean = []\n",
        "  for s in UIDs:\n",
        "    UIDs_clean.append(s[4:])\n",
        "  print('Length of full UIDs list:',len(UIDs_clean))  # Make sure it worked as intended\n",
        "  print('First 10 UIDs:',UIDs_clean[0:10]) # Make sure it worked as intended\n",
        "\n",
        "  # Select 200 random UIDs to pass into the next part of the workflow\n",
        "  UIDs200 = []\n",
        "  count = 0\n",
        "  while count < 200:\n",
        "    random_UID = UIDs_clean[randint(0,len(UIDs_clean)-1)]\n",
        "    if random_UID not in UIDs200:\n",
        "      UIDs200.append(random_UID)\n",
        "      count += 1\n",
        "  print(\"Length of UIDs200 (should be 200): \",len(UIDs200))   \n",
        "\n",
        "  # Return a list of UIDs\n",
        "  final_list = \",\".join(UIDs200)\n",
        "  return final_list"
      ],
      "metadata": {
        "id": "NVS6p-IUyA0v"
      },
      "execution_count": null,
      "outputs": []
    },
    {
      "cell_type": "code",
      "source": [
        "# import random number generator\n",
        "from random import seed\n",
        "from random import randint\n",
        "# seed random number generator\n",
        "seed(1)"
      ],
      "metadata": {
        "id": "qH3F189U_J1a"
      },
      "execution_count": null,
      "outputs": []
    },
    {
      "cell_type": "code",
      "source": [
        "# Run UDF on pathogenic losses file\n",
        "file_name = '/content/drive/MyDrive/Capstone Scripts/pathogenic_losses.txt' # replace with your file path/name\n",
        "UID_extractor_pathogenic(file_name)"
      ],
      "metadata": {
        "colab": {
          "base_uri": "https://localhost:8080/",
          "height": 431
        },
        "id": "kfK3MycJyfvV",
        "outputId": "305e2aab-d298-4a7b-985d-9666a8348749"
      },
      "execution_count": null,
      "outputs": [
        {
          "output_type": "stream",
          "name": "stdout",
          "text": [
            "Length of UIDs list: 6763\n",
            "First 10 UIDs: ['48438691', '53677449', '48484688', '48460685', '48441091', '52235360', '50454324', '48460610', '48485842', '48467902']\n",
            "Length of UIDs200:  200\n"
          ]
        },
        {
          "output_type": "execute_result",
          "data": {
            "text/plain": [
              "'48436665,53677353,50454366,48477854,50290265,48478988,47178757,50273201,48479485,48474924,48480686,48473240,48483658,48472497,50373014,49622806,48477774,48474510,48447923,48460551,48460567,48456403,54356099,48466869,48478357,48444934,48478293,48468214,48457484,48452042,48470456,48485437,48457247,50286953,48474229,49621112,48472413,50271920,49622068,50372182,48456324,49623360,48441038,49343744,53679220,48468545,48460613,50372047,49616937,48479757,48472354,48475665,48439176,53680318,17336739,48439998,48454915,48474140,48487320,54348714,48478407,49621028,46810648,48474478,48483325,48450022,47178742,48454836,54356371,48484928,48461008,48476043,49621544,48454822,48467555,48482814,50272989,50272026,48463131,48486439,48454858,48448424,48486675,48450149,48487654,53150651,48452138,48454554,48460957,53636913,48476519,48483305,48478491,53680510,53680287,48484736,48459931,52235366,48453737,48465085,48481979,48470336,48468093,54355583,48442392,48461160,48453533,48481557,48479282,50290726,50454357,49622381,48463591,48459344,48474554,50286967,49344281,53636563,48478850,48467184,48460953,53677473,48482823,53677516,48467084,48481855,48486172,53678781,50271413,48444434,48469852,49615482,48476273,50272261,48455419,48480512,53636982,48472889,48459943,48470473,49621087,48467289,53634206,48472512,48484937,48453455,49345587,17336866,49345584,50272231,48470178,49620977,48475287,48455620,48474031,48474044,49345072,48462648,50271309,48485310,48465286,48457061,48447971,53677413,48464855,48469345,48460146,48482757,48444740,48480774,48467792,50272505,53678023,48470700,49622504,50287365,48454157,50272449,30020946,48479833,48477260,47178743,50372045,49344197,48475885,48477687,50372788,48482598,49619586,48445434,17336783,49623016,51324790,50271530,48478918,53680530,48488228,48440594,48480836,48473699'"
            ],
            "application/vnd.google.colaboratory.intrinsic+json": {
              "type": "string"
            }
          },
          "metadata": {},
          "execution_count": 6
        }
      ]
    },
    {
      "cell_type": "markdown",
      "source": [
        "# Step 3: Use eSummary to extract CNV summaries"
      ],
      "metadata": {
        "id": "zOGzwlinPF6s"
      }
    },
    {
      "cell_type": "markdown",
      "source": [
        "Paste the list of UIDs from the end of the previous step at the end of the following URL to perform the eSummary query:\n",
        "\n",
        "https://eutils.ncbi.nlm.nih.gov/entrez/eutils/esummary.fcgi?db=dbvar&id=\n",
        "\n",
        "The output should be a text file containing CNV summaries\n"
      ],
      "metadata": {
        "id": "ZI7qcCqUOBy2"
      }
    },
    {
      "cell_type": "markdown",
      "source": [
        "# Step 4: Extract genomic coordinates from summaries"
      ],
      "metadata": {
        "id": "JORX2LPcPSFM"
      }
    },
    {
      "cell_type": "markdown",
      "source": [
        "The text file we are looking at represents the following heirarchy:\n",
        "\n",
        "\\<eSummaryResult>\n",
        "- \\<DocumentSummarySet status=\"OK\">\n",
        "  - \\<DbBuild>Build230209-1305.1\\</DbBuild>\n",
        "  - **\\<DocumentSummary uid=\"48459297\">** (first line for each CNV)\n",
        "    - \\<OBJ_TYPE>VARIANT\\</OBJ_TYPE>\n",
        "    - \\<ST> (Study ID, e.g. nstd102)\n",
        "    - \\<SV> (variant ID, e.g. nsv3895942)\n",
        "    - \\<dbVarPlacementList> (list of coordinate info)\n",
        "      - \\<dbVarPlacement>\n",
        "        - has \\<Chr>,\\<Chr_start>,\\<Chr_end>,\\<Assembly>\n",
        "    - \\<dbVarGeneList> (list of gene IDs and names)\n",
        "      - \\<dbVarGene> (contains \\<id> and \\<name>)\n",
        "    - \\<dbVarMethodList>\n",
        "    - \\<dbVarClinicalSignificanceList>\n",
        "    - \\<dbVarVariantTypeList>\n",
        "    - \\<Variant_call_count>\n",
        "    - \\<SortOrder>\n",
        "  - **\\</DocumentSummary>** (last line for each CNV)\n",
        "  - *more CNV records with the same structure shown above...*\n",
        "- \\</DocumentSummarySet>\n",
        "\n",
        "\\</eSummaryResult>\n",
        "\n"
      ],
      "metadata": {
        "id": "qX_xI2pALXEI"
      }
    },
    {
      "cell_type": "markdown",
      "source": [
        "Note: The following UDF uses the *dup_or_del* parameter which is customized for the way it was used in my capstone project. This parameter may need to be replaced/modified depending on its intended purpose."
      ],
      "metadata": {
        "id": "3ovz32guP9ST"
      }
    },
    {
      "cell_type": "code",
      "source": [
        "import re\n",
        "\n",
        "def coordinate_extractor_pathogenic(path,dup_or_del):\n",
        "# Input: A path for a file containing the results of an eSummary call using E-Utilities.\n",
        "#        dup_or_del should be 0 if CNVs are duplications and 1 if CNVs are deletions\n",
        "# Output: Prints list of UIDs, genomic coordinates (GRCh37), and Mastermind queries for the CNVs.\n",
        "#         Returns the number of CNVs with GRCh37 coordinates from the input file.\n",
        "\n",
        "  # Read the data from the file into a list\n",
        "  data_file = open(path,'r') \n",
        "  data = data_file.read().split()\n",
        "  data_file.close()\n",
        "  stripped_data = [line.strip('\\\\') for line in data] \n",
        "  # print(stripped_data)\n",
        "\n",
        "  # Extract genomic coordinates\n",
        "  docSum_list = []         # list which will contain all Document Summaries as individual strings\n",
        "  continue_adding = False  # boolean that signifies whether we should continue adding to the docsum string\n",
        "  currentDocSum = ''       # string representing the current DocumentSummary (to be added to the list)\n",
        "\n",
        "  for line in stripped_data:\n",
        "    if not continue_adding and 'uid=' in line: # if the first line of a DocumentSummary is reached\n",
        "      continue_adding = True\n",
        "      currentDocSum = currentDocSum + line\n",
        "    elif continue_adding:                      # if we are adding to the currentDocSum string\n",
        "      currentDocSum = currentDocSum + line\n",
        "      if '</DocumentSummary' in line:          # if the last line of the DocumentSummary is reached\n",
        "        docSum_list.append(currentDocSum)\n",
        "        continue_adding = False\n",
        "        currentDocSum = ''\n",
        "\n",
        "  final_list = []     # this list will contain lists of variant IDs and GRCh37 coordinates for each CNV record\n",
        "  missing_GRCh37 = 0  # this is a counter to keep track of how many CNVs don't have GRCh37 coordinates (e.g. they may have GRCh37.p13 coordinates instead)\n",
        "\n",
        "  regexpID = re.compile('uid=\\\"(?P<id>\\d*)\\\"')\n",
        "  regexpCoordinates = re.compile('<dbVarPlacement><Chr>(?P<chr>[\\d|X|Y]+)</Chr><Chr_start>(?P<start>\\d+)</Chr_start><Chr_end>(?P<end>\\d+)</Chr_end><Assembly>GRCh37</Assembly>')\n",
        "  \n",
        "  for docsum in docSum_list:\n",
        "    regexpID_match = regexpID.search(docsum)\n",
        "    regexpCoordinates_match = regexpCoordinates.search(docsum)\n",
        "    if regexpID_match and regexpCoordinates_match:          # if there is a match\n",
        "      id = regexpID_match.group('id')\n",
        "      chr = regexpCoordinates_match.group('chr')\n",
        "      start = regexpCoordinates_match.group('start')\n",
        "      end = regexpCoordinates_match.group('end')\n",
        "      final_list.append([id,chr,start,end])\n",
        "    else:\n",
        "      print(regexpID_match.group('id') + ' does not have GRCh37 coordinates')\n",
        "      missing_GRCh37 += 1\n",
        "\n",
        "  print('\\nCNVs without GRCh37 coordinates: ',missing_GRCh37,'\\n')\n",
        "  print('\\n\\n\\nUIDs:')\n",
        "  uid_list = [print(record[0]) for record in final_list]\n",
        "  print('\\n\\n\\nChromosomes:')\n",
        "  chr_list = [print(record[1]) for record in final_list]\n",
        "  print('\\n\\n\\nStart Positions:')\n",
        "  chr_list = [print(record[2]) for record in final_list]\n",
        "  print('\\n\\n\\nEnd Positions:')\n",
        "  chr_list = [print(record[3]) for record in final_list]\n",
        "  print('\\n\\n\\nMastermind Queries:')\n",
        "  if dup_or_del == 0:\n",
        "    query_list = [print('duplication (chr' + record[1] + ':' + record[2] + '-' + record[3] + ' (GRCh37)),') for record in final_list]\n",
        "  elif dup_or_del == 1:\n",
        "    query_list = [print('deletion (chr' + record[1] + ':' + record[2] + '-' + record[3] + ' (GRCh37)),') for record in final_list]\n",
        "  else:\n",
        "    print(\"Warning: Duplication or Deletion parameter has not been properly specified!\")\n",
        "  \n",
        "  return len(final_list)"
      ],
      "metadata": {
        "id": "gTlvRr2Ejmti"
      },
      "execution_count": null,
      "outputs": []
    },
    {
      "cell_type": "code",
      "source": [
        "# Run the UDF on your file\n",
        "file_name2 = '/content/drive/MyDrive/Capstone Scripts/eSummary200PathogenicLosses.txt' # replace with your file path/name\n",
        "coordinate_extractor_pathogenic(file_name2,1) # May need to adjust 2nd parameter depending on the intended use"
      ],
      "metadata": {
        "id": "oZji9Bz9PVrd"
      },
      "execution_count": null,
      "outputs": []
    },
    {
      "cell_type": "markdown",
      "source": [
        "# Step 5: Perform manual CNV search in Mastermind"
      ],
      "metadata": {
        "id": "5O3sRTYiRPUN"
      }
    },
    {
      "cell_type": "markdown",
      "source": [
        "Paste the Mastermind queries from the previous step into Mastermind in order to obtain the metrics of interest. For my project, I recorded the GPO values (defined in the Methods section), type of overlap, the number of exact matches (if any), and the match terms (for CNVs with 10+ matches or exact matches)"
      ],
      "metadata": {
        "id": "RwEFHtuoRZVr"
      }
    },
    {
      "cell_type": "markdown",
      "source": [
        "# Step 6: Perform custom data analysis and create visualizations"
      ],
      "metadata": {
        "id": "dWv5e732RUT4"
      }
    },
    {
      "cell_type": "markdown",
      "source": [
        "See Figures_Script.ipynb file"
      ],
      "metadata": {
        "id": "58MdwDSbToQm"
      }
    }
  ]
}